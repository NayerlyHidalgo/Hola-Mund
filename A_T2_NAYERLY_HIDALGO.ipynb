{
  "nbformat": 4,
  "nbformat_minor": 0,
  "metadata": {
    "colab": {
      "provenance": [],
      "authorship_tag": "ABX9TyNugotcewelOGi9w1LfnQTI",
      "include_colab_link": true
    },
    "kernelspec": {
      "name": "python3",
      "display_name": "Python 3"
    },
    "language_info": {
      "name": "python"
    }
  },
  "cells": [
    {
      "cell_type": "markdown",
      "metadata": {
        "id": "view-in-github",
        "colab_type": "text"
      },
      "source": [
        "<a href=\"https://colab.research.google.com/github/NayerlyHidalgo/Hola-Mund/blob/main/A_T2_NAYERLY_HIDALGO.ipynb\" target=\"_parent\"><img src=\"https://colab.research.google.com/assets/colab-badge.svg\" alt=\"Open In Colab\"/></a>"
      ]
    },
    {
      "cell_type": "markdown",
      "source": [
        "**Hola Mundo:** Escribe un programa que imprima \"Hola, Mundo!\" en la pantalla.\n"
      ],
      "metadata": {
        "id": "vCtKb4B3tkU1"
      }
    },
    {
      "cell_type": "code",
      "source": [
        "print(\"Hola Mundo\")"
      ],
      "metadata": {
        "colab": {
          "base_uri": "https://localhost:8080/"
        },
        "id": "jH4jjMeQtv_D",
        "outputId": "1c761c18-e225-4c3a-f563-5323109ee808"
      },
      "execution_count": 1,
      "outputs": [
        {
          "output_type": "stream",
          "name": "stdout",
          "text": [
            "Hola Mundo\n"
          ]
        }
      ]
    },
    {
      "cell_type": "markdown",
      "source": [
        "**Suma de dos números:** Escribe un programa que pida al usuario dos números y los sume."
      ],
      "metadata": {
        "id": "xrRtcua1t6vC"
      }
    },
    {
      "cell_type": "code",
      "source": [
        "print(\"Suma de dos numeros.\")\n",
        "var1 = int(input(\"Ingrese un valor: \"))\n",
        "var2 = int(input(\"Ingrese un segundo valor: \"))\n",
        "\n",
        "suma = var1 + var2\n",
        "print(\"la suma de los dos valores ingresados es: \", suma)\n"
      ],
      "metadata": {
        "colab": {
          "base_uri": "https://localhost:8080/"
        },
        "id": "SmCZpQRbuB4D",
        "outputId": "6c48db71-3622-4fe5-f842-d09fac63c478"
      },
      "execution_count": 10,
      "outputs": [
        {
          "output_type": "stream",
          "name": "stdout",
          "text": [
            "Suma de dos numeros.\n",
            "Ingrese un valor: 2\n",
            "Ingrese un segundo valor: 2\n",
            "la suma de los dos valores ingresados es:  4\n"
          ]
        }
      ]
    },
    {
      "cell_type": "markdown",
      "source": [
        "**Par o Impar:** Escribe un programa que determine si un número introducido por el usuario es par o impar."
      ],
      "metadata": {
        "id": "GMw7GGIQvjWI"
      }
    },
    {
      "cell_type": "code",
      "source": [
        "print(\"verificar si es par o impar\")\n",
        "var = int(input(\"ingrese un numero\"))\n",
        "suma += var if (suma % 2) == 0:\n",
        "if var == suma +=\n",
        "  print(\"la cantidad ingresada es impar\")\n",
        "else:\n",
        "  if var == -1:\n",
        "    print(\"la cantidad ingresada es par\")"
      ],
      "metadata": {
        "colab": {
          "base_uri": "https://localhost:8080/",
          "height": 106
        },
        "id": "NJJT2-SuvqPY",
        "outputId": "e2a43b6f-df8b-4ad9-a226-78c394c3e615"
      },
      "execution_count": 15,
      "outputs": [
        {
          "output_type": "error",
          "ename": "SyntaxError",
          "evalue": "illegal target for annotation (<ipython-input-15-c05b4dc55163>, line 2)",
          "traceback": [
            "\u001b[0;36m  File \u001b[0;32m\"<ipython-input-15-c05b4dc55163>\"\u001b[0;36m, line \u001b[0;32m2\u001b[0m\n\u001b[0;31m    -1: var = int(input(\"ingrese un numero\"))\u001b[0m\n\u001b[0m    ^\u001b[0m\n\u001b[0;31mSyntaxError\u001b[0m\u001b[0;31m:\u001b[0m illegal target for annotation\n"
          ]
        }
      ]
    },
    {
      "cell_type": "code",
      "source": [],
      "metadata": {
        "id": "4atQnsLewx4m"
      },
      "execution_count": null,
      "outputs": []
    }
  ]
}